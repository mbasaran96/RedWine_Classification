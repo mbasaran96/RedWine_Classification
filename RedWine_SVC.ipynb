{
 "cells": [
  {
   "cell_type": "code",
   "execution_count": 84,
   "id": "c8df546d-57aa-413d-bb2c-10aeb292e036",
   "metadata": {},
   "outputs": [],
   "source": [
    "# Bibliotheken laden\n",
    "import pickle\n",
    "import numpy as np\n",
    "import pandas as pd\n",
    "from sklearn.base import TransformerMixin, BaseEstimator\n",
    "from sklearn.pipeline import make_pipeline\n",
    "from sklearn.model_selection import cross_val_score\n",
    "from sklearn.decomposition import PCA\n",
    "from sklearn.model_selection import GridSearchCV\n",
    "from sklearn.svm import SVC\n",
    "from sklearn.metrics import confusion_matrix, root_mean_squared_error, accuracy_score, f1_score, classification_report\n",
    "import matplotlib.pyplot as plt\n",
    "import seaborn as sns\n",
    "import time"
   ]
  },
  {
   "cell_type": "markdown",
   "id": "b9fe0fb9-3850-40d1-a600-ba398a4dc0f1",
   "metadata": {},
   "source": [
    "## Load data"
   ]
  },
  {
   "cell_type": "code",
   "execution_count": 4,
   "id": "9da9bd09-1418-479b-8f22-cf53c8b7ecb1",
   "metadata": {},
   "outputs": [],
   "source": [
    "# Datensatz X und y mit numpy laden, da es für sklearn benötigt wird\n",
    "X_test = np.loadtxt('X_test.csv', delimiter=',')\n",
    "y_test = np.loadtxt('y_test.csv', delimiter=',')\n",
    "\n",
    "X_train = np.loadtxt('X_train_processed.csv', delimiter=',')\n",
    "y_train = np.loadtxt('y_train.csv', delimiter=',')"
   ]
  },
  {
   "cell_type": "markdown",
   "id": "0521b8d7-540f-4f9c-914f-6d78532a1145",
   "metadata": {},
   "source": [
    "## Transform Test Data"
   ]
  },
  {
   "cell_type": "code",
   "execution_count": 6,
   "id": "879a6f46-94cf-4f90-af64-45b520103902",
   "metadata": {},
   "outputs": [],
   "source": [
    "class CustomFeatureTransformer(BaseEstimator, TransformerMixin):\n",
    "    def __init__(self):\n",
    "    # Initialize any parameters you need here\n",
    "        pass\n",
    "\n",
    "    def fit(self, X, y=None):\n",
    "    # Fit the transformer to the data (e.g. compute any necessary statistics)\n",
    "        return self\n",
    "\n",
    "    def transform(self, X):\n",
    "# Create the custom features\n",
    "# Balance refers to the relationship between the four essential elements of wine:\n",
    "# tannin, acidity, alcohol and sugar.\n",
    "# Je süßer der Wein desto mehr Säure verträgt er\n",
    "        acids = X[:,:2].sum(axis=1)\n",
    "        acids_per_sugar = acids / X[:,3]\n",
    "        acids_per_alc = acids / X[:, 10]\n",
    "        alc_per_sugar = X[:, 10] / X[:,3]\n",
    "        sulf_per_sugar = X[:,6] / X[:, 3]\n",
    "\n",
    "        new_f = np.column_stack((acids_per_sugar, acids_per_alc, alc_per_sugar, sulf_per_sugar))\n",
    "        #new_f_inv = 1 / new_f\n",
    "\n",
    "        X = np.hstack((X, new_f)) #new_f_inv\n",
    "\n",
    "# um mehr Zucker muss mehr schwefel hinzugefügt werden um Fermentation zu stoppen\n",
    "\n",
    "# Zucker wird zu Alkohol\n",
    "\n",
    "        return X"
   ]
  },
  {
   "cell_type": "code",
   "execution_count": 7,
   "id": "15d2f735-fbd2-42d0-af97-e4a53b69415e",
   "metadata": {},
   "outputs": [],
   "source": [
    "with open('preprocessing_pipeline.pkl', 'rb') as p_file:\n",
    "    preproc_pipe = pickle.load(p_file)"
   ]
  },
  {
   "cell_type": "code",
   "execution_count": 8,
   "id": "1d0c2f9c-98e5-4388-9a76-7bd083b25dce",
   "metadata": {},
   "outputs": [],
   "source": [
    "X_test_processed = preproc_pipe.transform(X_test)"
   ]
  },
  {
   "cell_type": "code",
   "execution_count": 9,
   "id": "ee84c9f8-438d-4f37-8cb2-3102470e909c",
   "metadata": {},
   "outputs": [
    {
     "data": {
      "text/plain": [
       "((272, 11), (272, 15))"
      ]
     },
     "execution_count": 9,
     "metadata": {},
     "output_type": "execute_result"
    }
   ],
   "source": [
    "X_test.shape, X_test_processed.shape"
   ]
  },
  {
   "cell_type": "code",
   "execution_count": 10,
   "id": "83b64ab7-b50c-4575-9fc6-5e56d20a3d49",
   "metadata": {},
   "outputs": [
    {
     "name": "stdout",
     "output_type": "stream",
     "text": [
      "Mean Accuracy of SVC: 1.0\n"
     ]
    }
   ],
   "source": [
    "# Support Vector Machine - erster Durchlauf um einen Accuracy Score zu erhalten\n",
    "model = SVC(C=1.0, kernel='rbf', gamma='auto', random_state=42)\n",
    "model.fit(X_train,y_train)\n",
    "print(f\"Mean Accuracy of SVC:\", np.round(model.score(X_train,y_train)))"
   ]
  },
  {
   "cell_type": "code",
   "execution_count": 11,
   "id": "5dba5cad-dad5-41fd-8bc8-1da123c2d327",
   "metadata": {},
   "outputs": [
    {
     "name": "stdout",
     "output_type": "stream",
     "text": [
      "[0.56880734 0.56880734 0.56221198 0.62211982 0.57603687]\n",
      "0.58 accuracy with a standard deviation of 0.02\n"
     ]
    }
   ],
   "source": [
    "# Cross Val Score um accuracy zu vergleichen\n",
    "cvs = cross_val_score(model, X_train,y_train, scoring='accuracy', cv=5)\n",
    "print(cvs) # overfitting\n",
    "print(\"%0.2f accuracy with a standard deviation of %0.2f\" % (cvs.mean(), cvs.std()))"
   ]
  },
  {
   "cell_type": "code",
   "execution_count": 12,
   "id": "ae702006-5d82-4f8a-9a01-e2b280165ef1",
   "metadata": {},
   "outputs": [],
   "source": [
    "# Pipeline mit PCA und SVC erstellen\n",
    "\n",
    "model = make_pipeline(PCA(), SVC(probability=True, random_state=42, decision_function_shape='ovo'))"
   ]
  },
  {
   "cell_type": "code",
   "execution_count": 13,
   "id": "b9ab296e-7df3-4c2b-bdd6-6c6d49b983c6",
   "metadata": {},
   "outputs": [
    {
     "name": "stdout",
     "output_type": "stream",
     "text": [
      "\n",
      "///////////////////////////////////////////////////////////////// \n",
      "Rechenzeit: 5568.98595905304\n",
      "__________________________________________________________\n",
      "Best Estimator=  Pipeline(steps=[('pca', PCA(n_components=14)),\n",
      "                ('svc',\n",
      "                 SVC(C=1, decision_function_shape='ovo', probability=True,\n",
      "                     random_state=42))])\n",
      "Best Score: -0.7260555711745849\n",
      "Best Parameter: {'pca__n_components': 14, 'svc__C': 1, 'svc__gamma': 'scale', 'svc__kernel': 'rbf'}\n",
      "     param_pca__n_components  param_svc__C param_svc__kernel  \\\n",
      "0                         13             1            linear   \n",
      "1                         13            10            linear   \n",
      "2                         13           100            linear   \n",
      "3                         14             1            linear   \n",
      "4                         14            10            linear   \n",
      "..                       ...           ...               ...   \n",
      "238                       15           100           sigmoid   \n",
      "239                       15           100           sigmoid   \n",
      "240                       15           100           sigmoid   \n",
      "241                       15           100           sigmoid   \n",
      "242                       15           100           sigmoid   \n",
      "\n",
      "     param_svc__coef0  param_svc__degree param_svc__gamma  mean_test_score  \\\n",
      "0                 NaN                NaN              NaN        -0.767213   \n",
      "1                 NaN                NaN              NaN        -0.799289   \n",
      "2                 NaN                NaN              NaN        -0.793689   \n",
      "3                 NaN                NaN              NaN        -0.763220   \n",
      "4                 NaN                NaN              NaN        -0.779194   \n",
      "..                ...                ...              ...              ...   \n",
      "238               1.0                NaN             auto        -0.982954   \n",
      "239               5.0                NaN            scale        -0.855569   \n",
      "240               5.0                NaN             auto        -0.858818   \n",
      "241              10.0                NaN            scale        -1.034322   \n",
      "242              10.0                NaN             auto        -1.034322   \n",
      "\n",
      "     std_test_score  rank_test_score  mean_train_score  std_train_score  \n",
      "0          0.032172                9         -0.724693         0.010926  \n",
      "1          0.048258               44         -0.719259         0.012151  \n",
      "2          0.045085               41         -0.719093         0.012433  \n",
      "3          0.026421                8         -0.720732         0.009934  \n",
      "4          0.041903               31         -0.714650         0.009420  \n",
      "..              ...              ...               ...              ...  \n",
      "238        0.049859              205         -1.011478         0.039075  \n",
      "239        0.016369               98         -0.867343         0.015302  \n",
      "240        0.015079              106         -0.865082         0.015472  \n",
      "241        0.007943              215         -1.034699         0.001990  \n",
      "242        0.007943              215         -1.034699         0.001990  \n",
      "\n",
      "[243 rows x 11 columns]\n"
     ]
    }
   ],
   "source": [
    "# Funktion für die Auswertung nach dem fit\n",
    "def auswertung(model, X_train,y_train):\n",
    "    #model.fit(X_train,y_train)\n",
    "    print(\"__________________________________________________________\")\n",
    "    print(\"Best Estimator= \", model_gs.best_estimator_) # bestes Model für die Vorhersage mit dem höchsten Score\n",
    "    print(\"Best Score:\",model_gs.best_score_) # Wie hoch ist der beste Score\n",
    "    print(\"Best Parameter:\", model_gs.best_params_) # Die besten Parameter\n",
    "    print(pd.DataFrame({k:v for k, v in model_gs.cv_results_.items() if not k.endswith('time')|k.startswith('split')|k.startswith('params')}))\n",
    "\n",
    "\n",
    "\n",
    "# Hauptfunktion - Exhaustive GridSearch\n",
    "print()\n",
    "print(\"///////////////////////////////////////////////////////////////// \")\n",
    "\n",
    "start = time.time()\n",
    "params = [{'pca__n_components': [13,14,15], 'svc__C': [1,10,100],\n",
    "           'svc__kernel': ['linear']},\n",
    "          {'pca__n_components': [13,14,15], 'svc__C': [1,10,100], 'svc__kernel': ['poly'],\n",
    "           'svc__degree': [2,3,4], 'svc__gamma': ['scale', 'auto'],\n",
    "           'svc__coef0': [1,5,10]},\n",
    "          {'pca__n_components': [13,14,15], 'svc__C': [1,10,100], 'svc__kernel': ['rbf'],\n",
    "           'svc__gamma': ['scale', 'auto']},\n",
    "          {'pca__n_components': [13,14,15], 'svc__C': [1,10,100],\n",
    "           'svc__kernel': ['sigmoid'], 'svc__gamma': ['scale', 'auto'], 'svc__coef0': [1,5,10]}]\n",
    "model_gs = GridSearchCV(model, params, scoring='neg_root_mean_squared_error', return_train_score=True)\n",
    "# return_train_score - Verhältnis train zu test score\n",
    "model_gs.fit(X_train,y_train)\n",
    "end = time.time()\n",
    "print(f\"Rechenzeit:\", end-start)\n",
    "auswertung(model_gs, X_train,y_train)"
   ]
  },
  {
   "cell_type": "code",
   "execution_count": 28,
   "id": "3283919e-a48a-46d3-b801-561e396d177b",
   "metadata": {},
   "outputs": [
    {
     "data": {
      "text/html": [
       "<div>\n",
       "<style scoped>\n",
       "    .dataframe tbody tr th:only-of-type {\n",
       "        vertical-align: middle;\n",
       "    }\n",
       "\n",
       "    .dataframe tbody tr th {\n",
       "        vertical-align: top;\n",
       "    }\n",
       "\n",
       "    .dataframe thead th {\n",
       "        text-align: right;\n",
       "    }\n",
       "</style>\n",
       "<table border=\"1\" class=\"dataframe\">\n",
       "  <thead>\n",
       "    <tr style=\"text-align: right;\">\n",
       "      <th></th>\n",
       "      <th>param_pca__n_components</th>\n",
       "      <th>param_svc__C</th>\n",
       "      <th>param_svc__kernel</th>\n",
       "      <th>param_svc__coef0</th>\n",
       "      <th>param_svc__degree</th>\n",
       "      <th>param_svc__gamma</th>\n",
       "      <th>mean_test_score</th>\n",
       "      <th>std_test_score</th>\n",
       "      <th>rank_test_score</th>\n",
       "      <th>mean_train_score</th>\n",
       "      <th>std_train_score</th>\n",
       "    </tr>\n",
       "  </thead>\n",
       "  <tbody>\n",
       "    <tr>\n",
       "      <th>177</th>\n",
       "      <td>14</td>\n",
       "      <td>1</td>\n",
       "      <td>rbf</td>\n",
       "      <td>NaN</td>\n",
       "      <td>NaN</td>\n",
       "      <td>scale</td>\n",
       "      <td>-0.726056</td>\n",
       "      <td>0.029197</td>\n",
       "      <td>1</td>\n",
       "      <td>-0.661606</td>\n",
       "      <td>0.013475</td>\n",
       "    </tr>\n",
       "    <tr>\n",
       "      <th>184</th>\n",
       "      <td>15</td>\n",
       "      <td>1</td>\n",
       "      <td>rbf</td>\n",
       "      <td>NaN</td>\n",
       "      <td>NaN</td>\n",
       "      <td>auto</td>\n",
       "      <td>-0.728533</td>\n",
       "      <td>0.030574</td>\n",
       "      <td>2</td>\n",
       "      <td>-0.665779</td>\n",
       "      <td>0.012707</td>\n",
       "    </tr>\n",
       "    <tr>\n",
       "      <th>183</th>\n",
       "      <td>15</td>\n",
       "      <td>1</td>\n",
       "      <td>rbf</td>\n",
       "      <td>NaN</td>\n",
       "      <td>NaN</td>\n",
       "      <td>scale</td>\n",
       "      <td>-0.728533</td>\n",
       "      <td>0.030574</td>\n",
       "      <td>2</td>\n",
       "      <td>-0.665081</td>\n",
       "      <td>0.013077</td>\n",
       "    </tr>\n",
       "    <tr>\n",
       "      <th>172</th>\n",
       "      <td>13</td>\n",
       "      <td>1</td>\n",
       "      <td>rbf</td>\n",
       "      <td>NaN</td>\n",
       "      <td>NaN</td>\n",
       "      <td>auto</td>\n",
       "      <td>-0.729069</td>\n",
       "      <td>0.032405</td>\n",
       "      <td>4</td>\n",
       "      <td>-0.654341</td>\n",
       "      <td>0.008996</td>\n",
       "    </tr>\n",
       "    <tr>\n",
       "      <th>178</th>\n",
       "      <td>14</td>\n",
       "      <td>1</td>\n",
       "      <td>rbf</td>\n",
       "      <td>NaN</td>\n",
       "      <td>NaN</td>\n",
       "      <td>auto</td>\n",
       "      <td>-0.729100</td>\n",
       "      <td>0.031898</td>\n",
       "      <td>5</td>\n",
       "      <td>-0.658375</td>\n",
       "      <td>0.008787</td>\n",
       "    </tr>\n",
       "  </tbody>\n",
       "</table>\n",
       "</div>"
      ],
      "text/plain": [
       "     param_pca__n_components  param_svc__C param_svc__kernel  \\\n",
       "177                       14             1               rbf   \n",
       "184                       15             1               rbf   \n",
       "183                       15             1               rbf   \n",
       "172                       13             1               rbf   \n",
       "178                       14             1               rbf   \n",
       "\n",
       "     param_svc__coef0  param_svc__degree param_svc__gamma  mean_test_score  \\\n",
       "177               NaN                NaN            scale        -0.726056   \n",
       "184               NaN                NaN             auto        -0.728533   \n",
       "183               NaN                NaN            scale        -0.728533   \n",
       "172               NaN                NaN             auto        -0.729069   \n",
       "178               NaN                NaN             auto        -0.729100   \n",
       "\n",
       "     std_test_score  rank_test_score  mean_train_score  std_train_score  \n",
       "177        0.029197                1         -0.661606         0.013475  \n",
       "184        0.030574                2         -0.665779         0.012707  \n",
       "183        0.030574                2         -0.665081         0.013077  \n",
       "172        0.032405                4         -0.654341         0.008996  \n",
       "178        0.031898                5         -0.658375         0.008787  "
      ]
     },
     "execution_count": 28,
     "metadata": {},
     "output_type": "execute_result"
    }
   ],
   "source": [
    "# Erstellung eines DataFrames aus den Grid Search-Ergebnissen\n",
    "# Dictionary mit entsprechenden Spalten herausfiltern\n",
    "cv_res_df = pd.DataFrame({k:v for k, v in model_gs.cv_results_.items() if not k.endswith('time')|k.startswith('split')|k.startswith('params')})\n",
    "cv_res_df.sort_values('mean_test_score', ascending=False).head(5)"
   ]
  },
  {
   "cell_type": "code",
   "execution_count": 36,
   "id": "a82f12f8-ae2b-4565-8c7f-086503a1b784",
   "metadata": {},
   "outputs": [
    {
     "data": {
      "text/plain": [
       "array([[  0,   0,   6,   2,   0,   0],\n",
       "       [  0,   1,  27,  13,   1,   0],\n",
       "       [  0,   0, 376,  84,   1,   0],\n",
       "       [  0,   0, 110, 312,   6,   0],\n",
       "       [  0,   0,   6,  84,  44,   0],\n",
       "       [  0,   0,   0,   9,   5,   0]])"
      ]
     },
     "execution_count": 36,
     "metadata": {},
     "output_type": "execute_result"
    }
   ],
   "source": [
    "# Confusion Matrix für den besten Estimator\n",
    "y_true = y_train\n",
    "y_pred = model_gs.predict(X_train)\n",
    "con_matrix=confusion_matrix(y_true, y_pred) # sagt eine echte 8 als 6 (8Mal) und als 7 (6Mal) voraus --> schlecht\n",
    "con_matrix"
   ]
  },
  {
   "cell_type": "code",
   "execution_count": 92,
   "id": "5d4848af-44fa-4c79-be20-c585ff5c54a0",
   "metadata": {},
   "outputs": [
    {
     "data": {
      "image/png": "[encoded data removed]",
      "text/plain": [
       "<Figure size 640x480 with 2 Axes>"
      ]
     },
     "metadata": {},
     "output_type": "display_data"
    }
   ],
   "source": [
    "# Plot der Confusion Matrix für y_true und y_predicted\n",
    "fig, ax = plt.subplots()\n",
    "ax = sns.heatmap(con_matrix, annot=True, linewidth=.5)\n",
    "ax.set_ylabel('True')\n",
    "ax.set_xlabel('Predicted')\n",
    "ax.set_title('Confusion Matrix train')\n",
    "plt.show()"
   ]
  },
  {
   "cell_type": "code",
   "execution_count": 58,
   "id": "56a110cd-59b5-4b40-8736-1ecbba76f0dd",
   "metadata": {},
   "outputs": [],
   "source": [
    "#best params: {'pca__n_components': 14, 'svc__C': 1, 'svc__gamma': 'scale', 'svc__kernel': 'rbf'}\n",
    "# Modelltraining\n",
    "svc_pipe = make_pipeline(PCA(n_components=14),\n",
    "                      SVC(probability=True, random_state=42, decision_function_shape='ovo',\n",
    "                          C=1, kernel='rbf', gamma='scale'))\n",
    "svc_pipe.fit(X_train, y_train)\n",
    "\n",
    "# Vorhersagen auf Trainings- und Testdaten\n",
    "y_train_pred_svc = svc_pipe.predict(X_train)\n",
    "y_test_pred_svc = svc_pipe.predict(X_test_processed)"
   ]
  },
  {
   "cell_type": "markdown",
   "id": "323b783d-e70d-4db0-b141-89fd6adf8a5c",
   "metadata": {},
   "source": [
    "#### RMSE berechnen"
   ]
  },
  {
   "cell_type": "code",
   "execution_count": 66,
   "id": "f660b0ca-d078-46d5-a9a9-c2b3bcc972e0",
   "metadata": {},
   "outputs": [
    {
     "name": "stdout",
     "output_type": "stream",
     "text": [
      "RMSE_train: 0.67\n",
      "RMSE_test: 0.71\n"
     ]
    }
   ],
   "source": [
    "print(f'RMSE_train: {np.round(root_mean_squared_error(y_train, y_train_pred_svc), decimals=2)}')\n",
    "print(f'RMSE_test: {np.round(root_mean_squared_error(y_test, y_test_pred_svc), decimals=2)}')"
   ]
  },
  {
   "cell_type": "markdown",
   "id": "58e3b3a1-97f6-46ab-a883-cea190ea3794",
   "metadata": {},
   "source": [
    "#### Accuracy berechnen"
   ]
  },
  {
   "cell_type": "code",
   "execution_count": 80,
   "id": "5a6d1e49-fccb-4e22-8fa2-e865ec9c7a90",
   "metadata": {},
   "outputs": [
    {
     "name": "stdout",
     "output_type": "stream",
     "text": [
      "Accuracy Train: 0.67\n",
      "F1-Score Train: 0.61\n"
     ]
    }
   ],
   "source": [
    "accuracy_train = np.round(accuracy_score(y_train, y_train_pred_svc), decimals=2)\n",
    "accuracy_test = np.round(accuracy_score(y_test, y_test_pred_svc), decimals=2)\n",
    "print(f\"Accuracy Train:\", accuracy_train)\n",
    "print(f\"F1-Score Train:\", accuracy_test)"
   ]
  },
  {
   "cell_type": "markdown",
   "id": "5da29e4d-e37a-41cf-82b9-140390b333d1",
   "metadata": {},
   "source": [
    "#### F1-Score berechnen"
   ]
  },
  {
   "cell_type": "code",
   "execution_count": 76,
   "id": "0486d9bc-08ff-4a4c-9753-6830b277229c",
   "metadata": {},
   "outputs": [
    {
     "name": "stdout",
     "output_type": "stream",
     "text": [
      "F1-Score Train: 0.32\n",
      "F1-Score Test: 0.27\n"
     ]
    }
   ],
   "source": [
    "f1_train = np.round(f1_score(y_train, y_train_pred_svc, average='macro'), decimals=2)\n",
    "f1_test = np.round(f1_score(y_test, y_test_pred_svc, average='macro'), decimals=2)\n",
    "print(f\"F1-Score Train:\", f1_train)\n",
    "print(f\"F1-Score Test:\", f1_test)"
   ]
  },
  {
   "cell_type": "markdown",
   "id": "d265d61e-0f4c-4e68-a8bf-b2fe73abcdd5",
   "metadata": {},
   "source": [
    "#### Confusion Matrix berechnen und visualisieren"
   ]
  },
  {
   "cell_type": "code",
   "execution_count": 121,
   "id": "2ba8b057-6eea-4311-b37e-e7ad4b816a21",
   "metadata": {},
   "outputs": [
    {
     "name": "stdout",
     "output_type": "stream",
     "text": [
      "[[ 0  0  1  1  0  0]\n",
      " [ 0  0 10  1  0  0]\n",
      " [ 0  0 88 27  1  0]\n",
      " [ 0  0 32 70  5  0]\n",
      " [ 0  0  3 23  7  0]\n",
      " [ 0  0  0  2  1  0]]\n"
     ]
    },
    {
     "data": {
      "image/png": "[encoded data removed]",
      "text/plain": [
       "<Figure size 600x500 with 2 Axes>"
      ]
     },
     "metadata": {},
     "output_type": "display_data"
    }
   ],
   "source": [
    "conf_matrix = confusion_matrix(y_test, y_test_pred_svc)\n",
    "print(conf_matrix)\n",
    "plt.figure(figsize=(6,5))\n",
    "sns.heatmap(conf_matrix, annot=True, fmt='d', cmap='Blues', \n",
    "            xticklabels=np.unique(y_test),  \n",
    "            yticklabels=np.unique(y_test),\n",
    "            annot_kws={\"size\": 14, \"color\": \"black\"})  # Größe und Farbe der Zahlen anpassen) \n",
    "plt.xlabel('Predicted Label')\n",
    "plt.ylabel('True Label')\n",
    "plt.title('Confusion Matrix Test')\n",
    "plt.show()"
   ]
  },
  {
   "cell_type": "markdown",
   "id": "2c8603f6-a659-49d2-9c89-57ce14c1bae4",
   "metadata": {},
   "source": [
    "#### Detaillierter Bericht zur Klassifikation"
   ]
  },
  {
   "cell_type": "code",
   "execution_count": 125,
   "id": "9363ff2b-4241-4829-b676-7214217a807d",
   "metadata": {},
   "outputs": [
    {
     "name": "stdout",
     "output_type": "stream",
     "text": [
      "\n",
      "Classification Report:\n",
      "\n",
      "              precision    recall  f1-score   support\n",
      "\n",
      "         3.0     0.0000    0.0000    0.0000         2\n",
      "         4.0     0.0000    0.0000    0.0000        11\n",
      "         5.0     0.6567    0.7586    0.7040       116\n",
      "         6.0     0.5645    0.6542    0.6061       107\n",
      "         7.0     0.5000    0.2121    0.2979        33\n",
      "         8.0     0.0000    0.0000    0.0000         3\n",
      "\n",
      "    accuracy                         0.6066       272\n",
      "   macro avg     0.2869    0.2708    0.2680       272\n",
      "weighted avg     0.5628    0.6066    0.5748       272\n",
      "\n"
     ]
    },
    {
     "name": "stderr",
     "output_type": "stream",
     "text": [
      "/opt/anaconda3/lib/python3.11/site-packages/sklearn/metrics/_classification.py:1517: UndefinedMetricWarning: Precision is ill-defined and being set to 0.0 in labels with no predicted samples. Use `zero_division` parameter to control this behavior.\n",
      "  _warn_prf(average, modifier, f\"{metric.capitalize()} is\", len(result))\n",
      "/opt/anaconda3/lib/python3.11/site-packages/sklearn/metrics/_classification.py:1517: UndefinedMetricWarning: Precision is ill-defined and being set to 0.0 in labels with no predicted samples. Use `zero_division` parameter to control this behavior.\n",
      "  _warn_prf(average, modifier, f\"{metric.capitalize()} is\", len(result))\n",
      "/opt/anaconda3/lib/python3.11/site-packages/sklearn/metrics/_classification.py:1517: UndefinedMetricWarning: Precision is ill-defined and being set to 0.0 in labels with no predicted samples. Use `zero_division` parameter to control this behavior.\n",
      "  _warn_prf(average, modifier, f\"{metric.capitalize()} is\", len(result))\n"
     ]
    }
   ],
   "source": [
    "print(\"\\nClassification Report:\\n\")\n",
    "print(classification_report(y_test, y_test_pred_svc, digits=4))"
   ]
  },
  {
   "cell_type": "code",
   "execution_count": 132,
   "id": "30515f7b-6458-41df-854b-ad1eb2565b93",
   "metadata": {},
   "outputs": [
    {
     "name": "stdout",
     "output_type": "stream",
     "text": [
      "Echte Klassen in y_test: [3. 4. 5. 6. 7. 8.]\n",
      "Vorhergesagte Klassen in y_test_pred_svc: [5. 6. 7.]\n"
     ]
    }
   ],
   "source": [
    "print(\"Echte Klassen in y_test:\", np.unique(y_test))\n",
    "print(\"Vorhergesagte Klassen in y_test_pred_svc:\", np.unique(y_test_pred_svc))"
   ]
  },
  {
   "cell_type": "markdown",
   "id": "bcbe5315-4678-41d2-834e-a23b3dc571e8",
   "metadata": {},
   "source": [
    "#### Das Ergebnis des Classification Reports bestätigt die Annahme hinsichtlich der Verteilung.\n",
    "#### Aufgrund der unausgewogenen Datenverteilung, werden die Kategorien **3, 4 und 8** überhaupt nicht vorhergesagt."
   ]
  },
  {
   "cell_type": "code",
   "execution_count": null,
   "id": "09482e8f-2f7a-4b67-b2d6-cd7d0861ed22",
   "metadata": {},
   "outputs": [],
   "source": []
  }
 ],
 "metadata": {
  "kernelspec": {
   "display_name": "Python 3 (ipykernel)",
   "language": "python",
   "name": "python3"
  },
  "language_info": {
   "codemirror_mode": {
    "name": "ipython",
    "version": 3
   },
   "file_extension": ".py",
   "mimetype": "text/x-python",
   "name": "python",
   "nbconvert_exporter": "python",
   "pygments_lexer": "ipython3",
   "version": "3.11.7"
  }
 },
 "nbformat": 4,
 "nbformat_minor": 5
}
